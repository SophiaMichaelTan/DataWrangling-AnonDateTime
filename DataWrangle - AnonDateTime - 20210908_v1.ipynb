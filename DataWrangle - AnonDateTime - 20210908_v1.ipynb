{
 "cells": [
  {
   "cell_type": "markdown",
   "metadata": {},
   "source": [
    "#### 08 September 2021\n",
    "#### Sophia & Kit\n",
    "\n",
    "##### Future Improvements\n",
    "\n",
    "###### ++ Possible to flatten data before processing\n",
    "###### ++ Test Speed"
   ]
  },
  {
   "cell_type": "markdown",
   "metadata": {},
   "source": [
    "## Objectives.\n",
    "\n",
    "+ Create function(s) that anonymizes a datetime \"DD/MM/YYYY\" to XXX/XXX/YYYY.\n",
    "+ The function(s) takes in at least two of the following arguments: a DataFrame Object and the index location of the datetime column;\n",
    "+ and returns a DataFrame with anonymized datemine in the format of XXX/XXX/YYYY (e.g. XXX/XXX/2021)"
   ]
  },
  {
   "cell_type": "code",
   "execution_count": 1,
   "metadata": {},
   "outputs": [],
   "source": [
    "# Import relevant packages\n",
    "\n",
    "import pandas as pd\n",
    "import re"
   ]
  },
  {
   "cell_type": "code",
   "execution_count": 2,
   "metadata": {},
   "outputs": [
    {
     "name": "stdout",
     "output_type": "stream",
     "text": [
      "08/26/2020 01:33:00 PM\n",
      "<class 'str'>\n",
      "XXX/XXX/2020 01:33:00 PM\n"
     ]
    }
   ],
   "source": [
    "# This is a sample of the result we want to achieve when finding and replacing strings using REGEX\n",
    "\n",
    "df = pd.read_csv(\"Crimes_-_One_year_prior_to_present.csv\")\n",
    "\n",
    "text = df[\"DATE  OF OCCURRENCE\"].iloc[0]\n",
    "result4= re.sub('[0-9]*/', 'XXX/', text)\n",
    "\n",
    "print(text)\n",
    "print(type(result4))\n",
    "print(result4)"
   ]
  },
  {
   "cell_type": "markdown",
   "metadata": {},
   "source": [
    "### We begin the function here"
   ]
  },
  {
   "cell_type": "code",
   "execution_count": 3,
   "metadata": {},
   "outputs": [],
   "source": [
    "# Import relevant packages\n",
    "\n",
    "import pandas as pd\n",
    "import re"
   ]
  },
  {
   "cell_type": "code",
   "execution_count": 4,
   "metadata": {},
   "outputs": [
    {
     "data": {
      "text/plain": [
       "0    08/26/2020 01:33:00 PM\n",
       "1    02/05/2020 02:54:00 PM\n",
       "2    04/09/2020 02:00:00 PM\n",
       "3    03/08/2020 02:15:00 AM\n",
       "4    11/03/2019 11:40:00 AM\n",
       "5    03/21/2020 10:05:00 PM\n",
       "6    08/26/2020 09:45:00 PM\n",
       "7    11/03/2019 04:30:00 AM\n",
       "8    02/21/2020 03:30:00 AM\n",
       "9    12/05/2019 02:30:00 PM\n",
       "Name: DATE  OF OCCURRENCE, dtype: object"
      ]
     },
     "execution_count": 4,
     "metadata": {},
     "output_type": "execute_result"
    }
   ],
   "source": [
    "# Read CSV file into DataFrame\n",
    "# Use sample size of 10 datapoints\n",
    "\n",
    "df = pd.read_csv(\"Crimes_-_One_year_prior_to_present.csv\")\n",
    "\n",
    "df = df[0:10]\n",
    "df.iloc[:,1].head(10)"
   ]
  },
  {
   "cell_type": "code",
   "execution_count": 5,
   "metadata": {},
   "outputs": [],
   "source": [
    "# Extract the datetime (string) into a list\n",
    "# Returns the list of strings\n",
    "\n",
    "def pullDate (df,colNo):\n",
    "    # iterate through rows of df, accessing specific column using index\n",
    "    text = []\n",
    "#     print(type(text))\n",
    "    for value in df.iloc[:,colNo]:\n",
    "#         print (value)\n",
    "        text.append(value)\n",
    "#     print(type(text))\n",
    "    \n",
    "    return text"
   ]
  },
  {
   "cell_type": "code",
   "execution_count": 6,
   "metadata": {},
   "outputs": [
    {
     "name": "stdout",
     "output_type": "stream",
     "text": [
      "<class 'list'>\n",
      "['08/26/2020 01:33:00 PM', '02/05/2020 02:54:00 PM', '04/09/2020 02:00:00 PM', '03/08/2020 02:15:00 AM', '11/03/2019 11:40:00 AM', '03/21/2020 10:05:00 PM', '08/26/2020 09:45:00 PM', '11/03/2019 04:30:00 AM', '02/21/2020 03:30:00 AM', '12/05/2019 02:30:00 PM']\n"
     ]
    }
   ],
   "source": [
    "# Function Test\n",
    "\n",
    "print(type(pullDate(df,1)))\n",
    "print(pullDate(df,1))"
   ]
  },
  {
   "cell_type": "code",
   "execution_count": 7,
   "metadata": {},
   "outputs": [],
   "source": [
    "# Replaces each \"DD/MM/\" with \"XXX/XXX/\" in the list\n",
    "# Returns updated list\n",
    "\n",
    "def replaceString (text):\n",
    "    newText = []\n",
    "    for string in text:\n",
    "        newText.append(re.sub('[0-9]*/', 'XXX/', string))\n",
    "    return newText"
   ]
  },
  {
   "cell_type": "code",
   "execution_count": 8,
   "metadata": {},
   "outputs": [
    {
     "name": "stdout",
     "output_type": "stream",
     "text": [
      "<class 'list'>\n",
      "['XXX/XXX/2020 01:33:00 PM', 'XXX/XXX/2020 02:54:00 PM', 'XXX/XXX/2020 02:00:00 PM', 'XXX/XXX/2020 02:15:00 AM', 'XXX/XXX/2019 11:40:00 AM', 'XXX/XXX/2020 10:05:00 PM', 'XXX/XXX/2020 09:45:00 PM', 'XXX/XXX/2019 04:30:00 AM', 'XXX/XXX/2020 03:30:00 AM', 'XXX/XXX/2019 02:30:00 PM']\n"
     ]
    }
   ],
   "source": [
    "# Function Test\n",
    "\n",
    "text = pullDate(df, 1)\n",
    "replacedString = replaceString(text)\n",
    "\n",
    "print(type(replacedString))\n",
    "print(replacedString)"
   ]
  },
  {
   "cell_type": "code",
   "execution_count": 9,
   "metadata": {},
   "outputs": [],
   "source": [
    "# Replace the DateTime column with replaced/anonymized strings\n",
    "# Returns updated DataFrame\n",
    "\n",
    "def updateDF(df,colNo,replacedList):\n",
    "    df.iloc[:,colNo] = replacedList\n",
    "    return df"
   ]
  },
  {
   "cell_type": "code",
   "execution_count": 10,
   "metadata": {},
   "outputs": [
    {
     "name": "stdout",
     "output_type": "stream",
     "text": [
      "      CASE#       DATE  OF OCCURRENCE                                BLOCK  \\\n",
      "0  JD346990  XXX/XXX/2020 01:33:00 PM                  011XX N DEARBORN ST   \n",
      "1  JD141525  XXX/XXX/2020 02:54:00 PM                   030XX N HALSTED ST   \n",
      "2  JD205528  XXX/XXX/2020 02:00:00 PM                   029XX S ARCHER AVE   \n",
      "3  JD177980  XXX/XXX/2020 02:15:00 AM  064XX S DR MARTIN LUTHER KING JR DR   \n",
      "4  JC497784  XXX/XXX/2019 11:40:00 AM                     032XX N CLARK ST   \n",
      "5  JD195928  XXX/XXX/2020 10:05:00 PM                      019XX E 73RD PL   \n",
      "6  JD347075  XXX/XXX/2020 09:45:00 PM                  026XX N Rockwell St   \n",
      "7  JC497415  XXX/XXX/2019 04:30:00 AM                    107XX S PEORIA ST   \n",
      "8  JD160107  XXX/XXX/2020 03:30:00 AM                  008XX W NEWPORT AVE   \n",
      "9  JC537116  XXX/XXX/2019 02:30:00 PM                 013XX W GLENLAKE AVE   \n",
      "\n",
      "   IUCR  PRIMARY DESCRIPTION                SECONDARY DESCRIPTION  \\\n",
      "0  0890                THEFT                        FROM BUILDING   \n",
      "1  0860                THEFT                         RETAIL THEFT   \n",
      "2  1320      CRIMINAL DAMAGE                           TO VEHICLE   \n",
      "3  1330    CRIMINAL TRESPASS                              TO LAND   \n",
      "4  0860                THEFT                         RETAIL THEFT   \n",
      "5  1153   DECEPTIVE PRACTICE  FINANCIAL IDENTITY THEFT OVER $ 300   \n",
      "6  1320      CRIMINAL DAMAGE                           TO VEHICLE   \n",
      "7  1320      CRIMINAL DAMAGE                           TO VEHICLE   \n",
      "8  0890                THEFT                        FROM BUILDING   \n",
      "9  0820                THEFT                       $500 AND UNDER   \n",
      "\n",
      "            LOCATION DESCRIPTION ARREST DOMESTIC  BEAT  WARD FBI CD  \\\n",
      "0                      APARTMENT      N        N  1824   2.0     06   \n",
      "1                     DRUG STORE      N        N  1933  44.0     06   \n",
      "2                         STREET      N        N   913  11.0     14   \n",
      "3                      APARTMENT      Y        N   312  20.0     26   \n",
      "4               DEPARTMENT STORE      N        N  1924  44.0     06   \n",
      "5                            NaN      N        N   333   7.0     11   \n",
      "6                         STREET      N        N  1411  32.0     14   \n",
      "7  RESIDENTIAL YARD (FRONT/BACK)      N        N  2233  34.0     14   \n",
      "8                      APARTMENT      N        N  1924  44.0     06   \n",
      "9        RESIDENCE PORCH/HALLWAY      N        N  2433  48.0     06   \n",
      "\n",
      "   X COORDINATE  Y COORDINATE   LATITUDE  LONGITUDE  \\\n",
      "0           NaN           NaN        NaN        NaN   \n",
      "1           NaN           NaN        NaN        NaN   \n",
      "2     1168260.0     1885596.0  41.841609 -87.658034   \n",
      "3     1180028.0     1862391.0  41.777671 -87.615561   \n",
      "4           NaN           NaN        NaN        NaN   \n",
      "5           NaN           NaN        NaN        NaN   \n",
      "6           NaN           NaN        NaN        NaN   \n",
      "7           NaN           NaN        NaN        NaN   \n",
      "8           NaN           NaN        NaN        NaN   \n",
      "9           NaN           NaN        NaN        NaN   \n",
      "\n",
      "                       LOCATION  \n",
      "0                           NaN  \n",
      "1                           NaN  \n",
      "2  (41.841609341, -87.65803375)  \n",
      "3  (41.777670858, -87.61556066)  \n",
      "4                           NaN  \n",
      "5                           NaN  \n",
      "6                           NaN  \n",
      "7                           NaN  \n",
      "8                           NaN  \n",
      "9                           NaN  \n"
     ]
    }
   ],
   "source": [
    "# Function Test\n",
    "df = updateDF(df,1,replacedString)\n",
    "print(df)"
   ]
  }
 ],
 "metadata": {
  "kernelspec": {
   "display_name": "Python 3",
   "language": "python",
   "name": "python3"
  },
  "language_info": {
   "codemirror_mode": {
    "name": "ipython",
    "version": 3
   },
   "file_extension": ".py",
   "mimetype": "text/x-python",
   "name": "python",
   "nbconvert_exporter": "python",
   "pygments_lexer": "ipython3",
   "version": "3.8.5"
  }
 },
 "nbformat": 4,
 "nbformat_minor": 4
}
